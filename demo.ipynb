{
 "cells": [
  {
   "cell_type": "markdown",
   "id": "acd37cdb",
   "metadata": {},
   "source": [
    "# 为什么使用jupyter notebook\n",
    "\n",
    "Jupyter Notebook 特别适合数据科学和机器学习领域的开发，因为它具有以下优势：\n",
    "\n",
    "交互性：Jupyter Notebook 可以让用户在每个代码块中进行交互式编程，这使得调试和调整代码变得更加容易和直观。数据科学和机器学习的开发过程通常需要进行大量的试错和实验，使用 Jupyter Notebook 可以快速迭代和调整代码。\n",
    "\n",
    "可视化：Jupyter Notebook 可以轻松地生成丰富的数据可视化图表，这对于数据科学和机器学习领域的分析和探索非常重要。用户可以使用 Python 库（如 Matplotlib、Plotly 和 Bokeh）来创建交互式图表和可视化效果。\n",
    "\n",
    "文档化：Jupyter Notebook 可以将代码、文本和图像组合在一起，形成一份完整的文档，这对于数据科学和机器学习领域的研究和报告非常有用。用户可以使用 Markdown 语法来编写格式化的文本，并在其中嵌入代码和图像。\n",
    "\n",
    "社区支持：Jupyter Notebook 的社区非常活跃，有大量的第三方扩展库和插件可供使用。这些扩展库可以提供额外的功能，如支持不同的编程语言、增强代码编辑和调试、提供更丰富的数据可视化等。\n",
    "\n",
    "可分享性：Jupyter Notebook 可以轻松地分享给其他人，这使得团队协作和知识共享变得更加容易。用户可以将 Jupyter Notebook 导出为 HTML、PDF 或 Markdown 格式，或者上传到在线服务（如 GitHub、GitLab 和 Jupyter Notebook Viewer）进行分享和协作。"
   ]
  },
  {
   "cell_type": "markdown",
   "id": "87ffe57d",
   "metadata": {},
   "source": [
    "# 参数管理"
   ]
  },
  {
   "cell_type": "code",
   "execution_count": 1,
   "id": "bda13e12",
   "metadata": {},
   "outputs": [
    {
     "name": "stdout",
     "output_type": "stream",
     "text": [
      "tensor([[-0.6147],\n",
      "        [-0.7002]], grad_fn=<AddmmBackward0>)\n"
     ]
    }
   ],
   "source": [
    "import torch\n",
    "from torch import nn\n",
    "\n",
    "net = nn.Sequential(nn.Linear(4, 8), nn.ReLU(), nn.Linear(8, 1))\n",
    "x = torch.rand(size=(2, 4))\n",
    "print(net(x))"
   ]
  },
  {
   "cell_type": "markdown",
   "id": "075fc030",
   "metadata": {},
   "source": [
    "## 参数访问"
   ]
  },
  {
   "cell_type": "code",
   "execution_count": 5,
   "id": "c17aa1ce",
   "metadata": {},
   "outputs": [
    {
     "name": "stdout",
     "output_type": "stream",
     "text": [
      "OrderedDict([('weight', tensor([[-0.2827, -0.0224, -0.0247,  0.1026, -0.3062,  0.0252,  0.0782, -0.0797]])), ('bias', tensor([-0.3479]))])\n"
     ]
    }
   ],
   "source": [
    "print(net[2].state_dict())  \n",
    "# 拿到的是最后的一个输出层nn.Linear(8, 1)\n",
    "# state_dict是一个状态，权重可以被改变"
   ]
  },
  {
   "cell_type": "markdown",
   "id": "a0d83647",
   "metadata": {},
   "source": [
    "## 目标参数"
   ]
  },
  {
   "cell_type": "code",
   "execution_count": 6,
   "id": "3f37c0ac",
   "metadata": {},
   "outputs": [
    {
     "name": "stdout",
     "output_type": "stream",
     "text": [
      "<class 'torch.nn.parameter.Parameter'>\n",
      "Parameter containing:\n",
      "tensor([-0.3479], requires_grad=True)\n",
      "tensor([-0.3479])\n"
     ]
    }
   ],
   "source": [
    "print(type(net[2].bias))\n",
    "print(net[2].bias)\n",
    "print(net[2].bias.data)  # 值本身，还有一个梯度"
   ]
  },
  {
   "cell_type": "code",
   "execution_count": 7,
   "id": "744dd8ba",
   "metadata": {},
   "outputs": [
    {
     "data": {
      "text/plain": [
       "True"
      ]
     },
     "execution_count": 7,
     "metadata": {},
     "output_type": "execute_result"
    }
   ],
   "source": [
    "net[2].weight.grad == None"
   ]
  },
  {
   "cell_type": "markdown",
   "id": "381f46c6",
   "metadata": {},
   "source": [
    "## 一次性访问所有参数"
   ]
  },
  {
   "cell_type": "code",
   "execution_count": 8,
   "id": "a0f5cafc",
   "metadata": {},
   "outputs": [
    {
     "name": "stdout",
     "output_type": "stream",
     "text": [
      "('weight', torch.Size([8, 4])) ('bias', torch.Size([8]))\n",
      "('0.weight', torch.Size([8, 4])) ('0.bias', torch.Size([8])) ('2.weight', torch.Size([1, 8])) ('2.bias', torch.Size([1]))\n"
     ]
    }
   ],
   "source": [
    "# 拿出第一层的named_parameters的参数\n",
    "print(*[(name, param.shape) for name, param in net[0].named_parameters()])\n",
    "\n",
    "# 把整个网络的parameters全部拿出来\n",
    "print(*[(name, param.shape) for name, param in net.named_parameters()])\n",
    "# 因为1是ReLu，它是没有参数的"
   ]
  },
  {
   "cell_type": "code",
   "execution_count": 9,
   "id": "73cdc222",
   "metadata": {},
   "outputs": [
    {
     "data": {
      "text/plain": [
       "tensor([-0.3479])"
      ]
     },
     "execution_count": 9,
     "metadata": {},
     "output_type": "execute_result"
    }
   ],
   "source": [
    "net.state_dict()['2.bias'].data  # 通过名字获取参数"
   ]
  },
  {
   "cell_type": "markdown",
   "id": "b4af2992",
   "metadata": {},
   "source": [
    "## 从嵌套块收集参数"
   ]
  },
  {
   "cell_type": "code",
   "execution_count": 11,
   "id": "e64ea914",
   "metadata": {},
   "outputs": [
    {
     "data": {
      "text/plain": [
       "tensor([[0.0982],\n",
       "        [0.0982]], grad_fn=<AddmmBackward0>)"
      ]
     },
     "execution_count": 11,
     "metadata": {},
     "output_type": "execute_result"
    }
   ],
   "source": [
    "def block1():\n",
    "    return nn.Sequential(nn.Linear(4,8), nn.ReLU(), nn.Linear(8, 4), nn.ReLU())\n",
    "\n",
    "def block2():\n",
    "    net = nn.Sequential()\n",
    "    for i in range(4):\n",
    "        net.add_module(f\"block {i}\", block1())\n",
    "    return net\n",
    "\n",
    "rgnet = nn.Sequential(block2(), nn.Linear(4, 1))\n",
    "rgnet(x)"
   ]
  },
  {
   "cell_type": "markdown",
   "id": "011bdccb",
   "metadata": {},
   "source": [
    "最后rgnet(x)输出为2*1，是因为x是行数为2的矩阵，而1是因为定义的最后linear层的输出特征为1"
   ]
  },
  {
   "cell_type": "code",
   "execution_count": 12,
   "id": "cea37318",
   "metadata": {},
   "outputs": [
    {
     "name": "stdout",
     "output_type": "stream",
     "text": [
      "Sequential(\n",
      "  (0): Sequential(\n",
      "    (block 0): Sequential(\n",
      "      (0): Linear(in_features=4, out_features=8, bias=True)\n",
      "      (1): ReLU()\n",
      "      (2): Linear(in_features=8, out_features=4, bias=True)\n",
      "      (3): ReLU()\n",
      "    )\n",
      "    (block 1): Sequential(\n",
      "      (0): Linear(in_features=4, out_features=8, bias=True)\n",
      "      (1): ReLU()\n",
      "      (2): Linear(in_features=8, out_features=4, bias=True)\n",
      "      (3): ReLU()\n",
      "    )\n",
      "    (block 2): Sequential(\n",
      "      (0): Linear(in_features=4, out_features=8, bias=True)\n",
      "      (1): ReLU()\n",
      "      (2): Linear(in_features=8, out_features=4, bias=True)\n",
      "      (3): ReLU()\n",
      "    )\n",
      "    (block 3): Sequential(\n",
      "      (0): Linear(in_features=4, out_features=8, bias=True)\n",
      "      (1): ReLU()\n",
      "      (2): Linear(in_features=8, out_features=4, bias=True)\n",
      "      (3): ReLU()\n",
      "    )\n",
      "  )\n",
      "  (1): Linear(in_features=4, out_features=1, bias=True)\n",
      ")\n"
     ]
    }
   ],
   "source": [
    "print(rgnet)"
   ]
  },
  {
   "cell_type": "code",
   "execution_count": null,
   "id": "8cf533dd",
   "metadata": {},
   "outputs": [],
   "source": []
  }
 ],
 "metadata": {
  "kernelspec": {
   "display_name": "Pytorch",
   "language": "python",
   "name": "pytorch"
  },
  "language_info": {
   "codemirror_mode": {
    "name": "ipython",
    "version": 3
   },
   "file_extension": ".py",
   "mimetype": "text/x-python",
   "name": "python",
   "nbconvert_exporter": "python",
   "pygments_lexer": "ipython3",
   "version": "3.10.9"
  }
 },
 "nbformat": 4,
 "nbformat_minor": 5
}
